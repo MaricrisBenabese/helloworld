{
  "nbformat": 4,
  "nbformat_minor": 0,
  "metadata": {
    "colab": {
      "name": "Hello World.ipynb",
      "provenance": []
    },
    "kernelspec": {
      "name": "python3",
      "display_name": "Python 3"
    },
    "language_info": {
      "name": "python"
    }
  },
  "cells": [
    {
      "cell_type": "code",
      "execution_count": 2,
      "metadata": {
        "colab": {
          "base_uri": "https://localhost:8080/"
        },
        "id": "CqIvJ_n5dma1",
        "outputId": "b7cde4d2-bae4-416b-d23e-bd536ea87e5e"
      },
      "outputs": [
        {
          "output_type": "stream",
          "name": "stdout",
          "text": [
            "Hello World!\n"
          ]
        }
      ],
      "source": [
        "print ( 'Hello World!');"
      ]
    },
    {
      "cell_type": "code",
      "source": [
        "print(type( ' Hello World! '))"
      ],
      "metadata": {
        "colab": {
          "base_uri": "https://localhost:8080/"
        },
        "id": "LP7wg-vjeXNj",
        "outputId": "bb8be0ec-77b5-4373-e56a-5151dac3c0d2"
      },
      "execution_count": 5,
      "outputs": [
        {
          "output_type": "stream",
          "name": "stdout",
          "text": [
            "<class 'str'>\n"
          ]
        }
      ]
    },
    {
      "cell_type": "code",
      "source": [
        "# Single quotes\n",
        "print( 'Hello World!')"
      ],
      "metadata": {
        "colab": {
          "base_uri": "https://localhost:8080/"
        },
        "id": "_ao3oJbKgziz",
        "outputId": "fd8ad2c0-f43d-45ad-8959-90739aa24f5d"
      },
      "execution_count": 7,
      "outputs": [
        {
          "output_type": "stream",
          "name": "stdout",
          "text": [
            "Hello World!\n"
          ]
        }
      ]
    },
    {
      "cell_type": "code",
      "source": [
        "# Double quotes\n",
        "print( \"Hello World! \")"
      ],
      "metadata": {
        "colab": {
          "base_uri": "https://localhost:8080/"
        },
        "id": "mUO5BS5WhVXw",
        "outputId": "adb81224-dc83-463c-c4a9-708f7d3170be"
      },
      "execution_count": 8,
      "outputs": [
        {
          "output_type": "stream",
          "name": "stdout",
          "text": [
            "Hello World! \n"
          ]
        }
      ]
    },
    {
      "cell_type": "code",
      "source": [
        "# Assign string \"Cris\" to variable name\n",
        "name = \"Cris\"\n",
        "\n",
        "# Print variable name\n",
        "print( name )"
      ],
      "metadata": {
        "colab": {
          "base_uri": "https://localhost:8080/"
        },
        "id": "mExWmTHLh2O1",
        "outputId": "2fbea6de-c644-4c37-82b9-e8a9e82422a6"
      },
      "execution_count": 9,
      "outputs": [
        {
          "output_type": "stream",
          "name": "stdout",
          "text": [
            "Cris\n"
          ]
        }
      ]
    }
  ]
}